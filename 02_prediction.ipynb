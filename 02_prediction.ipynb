{
 "cells": [
  {
   "cell_type": "code",
   "execution_count": 1,
   "metadata": {},
   "outputs": [
    {
     "ename": "NameError",
     "evalue": "name 'num_features' is not defined",
     "output_type": "error",
     "traceback": [
      "\u001b[1;31m---------------------------------------------------------------------------\u001b[0m",
      "\u001b[1;31mNameError\u001b[0m                                 Traceback (most recent call last)",
      "Cell \u001b[1;32mIn[1], line 4\u001b[0m\n\u001b[0;32m      1\u001b[0m \u001b[38;5;28;01mfrom\u001b[39;00m \u001b[38;5;21;01mmaps\u001b[39;00m\u001b[38;5;21;01m.\u001b[39;00m\u001b[38;5;21;01mcell_phenotyping\u001b[39;00m \u001b[38;5;28;01mimport\u001b[39;00m Predictor\n\u001b[0;32m      3\u001b[0m pretrained_model_checkpoint_path \u001b[38;5;241m=\u001b[39m \u001b[38;5;124m'\u001b[39m\u001b[38;5;124m./results_maps/zscore/best_checkpoint.pt\u001b[39m\u001b[38;5;124m'\u001b[39m\n\u001b[1;32m----> 4\u001b[0m model \u001b[38;5;241m=\u001b[39m Predictor(model_checkpoint_path\u001b[38;5;241m=\u001b[39mpretrained_model_checkpoint_path, num_features\u001b[38;5;241m=\u001b[39m\u001b[43mnum_features\u001b[49m, num_classes\u001b[38;5;241m=\u001b[39mnum_classes, batch_size\u001b[38;5;241m=\u001b[39m\u001b[38;5;241m128\u001b[39m)\n\u001b[0;32m      5\u001b[0m pred_labels, pred_probs \u001b[38;5;241m=\u001b[39m model\u001b[38;5;241m.\u001b[39mpredict(test_data_scaled)\n",
      "\u001b[1;31mNameError\u001b[0m: name 'num_features' is not defined"
     ]
    }
   ],
   "source": [
    "from maps.cell_phenotyping import Predictor\n",
    "\n",
    "pretrained_model_checkpoint_path = './outputs/models/best_checkpoint.pt'\n",
    "model = Predictor(model_checkpoint_path=pretrained_model_checkpoint_path, num_features=num_features, num_classes=num_classes, batch_size=128)\n",
    "pred_labels, pred_probs = model.predict(test_data_scaled)"
   ]
  }
 ],
 "metadata": {
  "kernelspec": {
   "display_name": "Python 3.9.0 ('maps_env')",
   "language": "python",
   "name": "python3"
  },
  "language_info": {
   "codemirror_mode": {
    "name": "ipython",
    "version": 3
   },
   "file_extension": ".py",
   "mimetype": "text/x-python",
   "name": "python",
   "nbconvert_exporter": "python",
   "pygments_lexer": "ipython3",
   "version": "3.9.0"
  },
  "orig_nbformat": 4,
  "vscode": {
   "interpreter": {
    "hash": "316c989b57f427b013cfe352884924faca76586004c1b1ae868dca655857a230"
   }
  }
 },
 "nbformat": 4,
 "nbformat_minor": 2
}
